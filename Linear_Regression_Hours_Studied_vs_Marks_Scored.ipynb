{
  "nbformat": 4,
  "nbformat_minor": 0,
  "metadata": {
    "colab": {
      "provenance": [],
      "authorship_tag": "ABX9TyMeorD9Rtjh/FGUO4EqSGVO",
      "include_colab_link": true
    },
    "kernelspec": {
      "name": "python3",
      "display_name": "Python 3"
    },
    "language_info": {
      "name": "python"
    }
  },
  "cells": [
    {
      "cell_type": "markdown",
      "metadata": {
        "id": "view-in-github",
        "colab_type": "text"
      },
      "source": [
        "<a href=\"https://colab.research.google.com/github/HK-AID/ML/blob/main/Linear_Regression_Hours_Studied_vs_Marks_Scored.ipynb\" target=\"_parent\"><img src=\"https://colab.research.google.com/assets/colab-badge.svg\" alt=\"Open In Colab\"/></a>"
      ]
    },
    {
      "cell_type": "code",
      "execution_count": 1,
      "metadata": {
        "id": "1kvL-iLzebfX"
      },
      "outputs": [],
      "source": [
        "import numpy as np\n",
        "import pandas as pd\n",
        "import matplotlib.pyplot as plt\n",
        "from sklearn.linear_model import LinearRegression\n",
        "from sklearn.model_selection import train_test_split\n"
      ]
    },
    {
      "cell_type": "code",
      "source": [
        "# Creating dataset\n",
        "data = {\n",
        "    'Hours': [1, 2, 3, 4, 5, 6, 7, 8, 9, 10],\n",
        "    'Marks': [10, 20, 30, 35, 45, 50, 65, 70, 85, 95]\n",
        "}\n",
        "\n",
        "df = pd.DataFrame(data)\n",
        "\n",
        "# Display the data\n",
        "print(df)\n"
      ],
      "metadata": {
        "colab": {
          "base_uri": "https://localhost:8080/"
        },
        "id": "tvZdpoNxeygc",
        "outputId": "92276713-3678-434d-ea74-108efb287f18"
      },
      "execution_count": 2,
      "outputs": [
        {
          "output_type": "stream",
          "name": "stdout",
          "text": [
            "   Hours  Marks\n",
            "0      1     10\n",
            "1      2     20\n",
            "2      3     30\n",
            "3      4     35\n",
            "4      5     45\n",
            "5      6     50\n",
            "6      7     65\n",
            "7      8     70\n",
            "8      9     85\n",
            "9     10     95\n"
          ]
        }
      ]
    },
    {
      "cell_type": "code",
      "source": [
        "# Plotting the data\n",
        "plt.scatter(df['Hours'], df['Marks'], color='blue', marker='o')\n",
        "plt.title('Study Hours vs Marks')\n",
        "plt.xlabel('Hours Studied')\n",
        "plt.ylabel('Marks Scored')\n",
        "plt.grid(True)\n",
        "plt.show()\n"
      ],
      "metadata": {
        "colab": {
          "base_uri": "https://localhost:8080/",
          "height": 472
        },
        "id": "13ZRd4HyeyfX",
        "outputId": "22678f41-1c42-4657-afff-c3d29d055a8f"
      },
      "execution_count": 3,
      "outputs": [
        {
          "output_type": "display_data",
          "data": {
            "text/plain": [
              "<Figure size 640x480 with 1 Axes>"
            ],
            "image/png": "[encoded data removed]"
          },
          "metadata": {}
        }
      ]
    },
    {
      "cell_type": "code",
      "source": [
        "# Splitting the data into X (input) and y (output)\n",
        "X = df[['Hours']]  # Features should be 2D (that’s why double brackets)\n",
        "y = df['Marks']\n",
        "\n",
        "# Split into train and test sets (80% train, 20% test)\n",
        "X_train, X_test, y_train, y_test = train_test_split(X, y, test_size=0.2, random_state=42)\n",
        "\n",
        "# Show the training and testing data\n",
        "print(\"Training Data:\")\n",
        "print(X_train)\n",
        "print(\"\\nTesting Data:\")\n",
        "print(X_test)\n"
      ],
      "metadata": {
        "colab": {
          "base_uri": "https://localhost:8080/"
        },
        "id": "Riq2gHd7fXBY",
        "outputId": "53771e20-48d2-4570-d90d-077a5dd25218"
      },
      "execution_count": 4,
      "outputs": [
        {
          "output_type": "stream",
          "name": "stdout",
          "text": [
            "Training Data:\n",
            "   Hours\n",
            "5      6\n",
            "0      1\n",
            "7      8\n",
            "2      3\n",
            "9     10\n",
            "4      5\n",
            "3      4\n",
            "6      7\n",
            "\n",
            "Testing Data:\n",
            "   Hours\n",
            "8      9\n",
            "1      2\n"
          ]
        }
      ]
    }
  ]
}